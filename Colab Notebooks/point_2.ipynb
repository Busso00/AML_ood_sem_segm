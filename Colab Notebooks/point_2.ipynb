version https://git-lfs.github.com/spec/v1
oid sha256:07692e1109f54c7936868a452853a0cb3ffef9a10e8b67541e6d20809661bc06
size 5145238
